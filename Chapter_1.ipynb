{
 "cells": [
  {
   "cell_type": "markdown",
   "metadata": {},
   "source": [
    "# Chapter 1 - Water Balance\n",
    "Execute the following code block to initialize this notebook"
   ]
  },
  {
   "cell_type": "code",
   "execution_count": 2,
   "metadata": {
    "slideshow": {
     "slide_type": "slide"
    }
   },
   "outputs": [],
   "source": [
    "import matplotlib.pyplot as plt\n",
    "import numpy as np\n",
    "import pandas as pd"
   ]
  },
  {
   "cell_type": "markdown",
   "metadata": {},
   "source": [
    "The water balance is an accounting of the movement and storage of water within the biosphere. A generalized water balance equation is defined as,\n",
    "\\begin{equation}\n",
    "P+w = I+R_s+R_g+E_{surface}+E_{plant}+E_{soil}+\\Delta V_{soil}/t+\\Delta SWE/t\n",
    "\\end{equation}"
   ]
  },
  {
   "cell_type": "markdown",
   "metadata": {},
   "source": [
    "$\\frac{\\partial S}{\\partial t}=[P(t)-L\\times L\\times E_t(t)-E_s(t)-E_{vs}(t)-E_{ss}(t)-R_s(t)-R_g(t)-v_s(t)+w(t)]\\\\\n",
    "=\\frac{\\partial}{\\partial t}[V_{vs}(t)+V_{ss}(t)+V_{gs}(t)+V_{SWE}(t)]$"
   ]
  },
  {
   "cell_type": "markdown",
   "metadata": {},
   "source": [
    "## Precipitation"
   ]
  },
  {
   "cell_type": "code",
   "execution_count": 3,
   "metadata": {
    "slideshow": {
     "slide_type": "slide"
    }
   },
   "outputs": [
    {
     "data": {
      "text/plain": [
       "7"
      ]
     },
     "execution_count": 3,
     "metadata": {},
     "output_type": "execute_result"
    }
   ],
   "source": [
    "A=4\n",
    "A+3"
   ]
  },
  {
   "cell_type": "markdown",
   "metadata": {},
   "source": [
    "## Infiltration"
   ]
  },
  {
   "cell_type": "markdown",
   "metadata": {},
   "source": [
    "The change in storage can be evaluated as:\n",
    "\\begin{equation}\n",
    "\\Delta S = I-O\n",
    "\\end{equation}"
   ]
  },
  {
   "cell_type": "markdown",
   "metadata": {},
   "source": [
    "# Precipitation Intensity-Duration-Frequency (IDF) Curves\n",
    "\n",
    "This example is based on examples from Jorge Ramirez - <a href=\"http://www.engr.colostate.edu/~ramirez/ce_old/classes/cive322-Ramirez/CIVE322-Basic-Hydrology.htm\"> Source Here</a>"
   ]
  },
  {
   "cell_type": "code",
   "execution_count": 20,
   "metadata": {},
   "outputs": [
    {
     "name": "stdout",
     "output_type": "stream",
     "text": [
      "Number of years of annual data:  21\n"
     ]
    }
   ],
   "source": [
    "Prec=pd.read_csv(\"./Data/Annual_Freq_Data.txt\", delim_whitespace=True, index_col=0)\n",
    "N=len(Prec)\n",
    "print('Number of years of annual data: ',N)"
   ]
  },
  {
   "cell_type": "markdown",
   "metadata": {},
   "source": [
    "Take a look at the first five rows of data, which shows total event precipitation in (mm) for each year, for ecah duration period."
   ]
  },
  {
   "cell_type": "code",
   "execution_count": 21,
   "metadata": {},
   "outputs": [
    {
     "data": {
      "text/html": [
       "<div>\n",
       "<style scoped>\n",
       "    .dataframe tbody tr th:only-of-type {\n",
       "        vertical-align: middle;\n",
       "    }\n",
       "\n",
       "    .dataframe tbody tr th {\n",
       "        vertical-align: top;\n",
       "    }\n",
       "\n",
       "    .dataframe thead th {\n",
       "        text-align: right;\n",
       "    }\n",
       "</style>\n",
       "<table border=\"1\" class=\"dataframe\">\n",
       "  <thead>\n",
       "    <tr style=\"text-align: right;\">\n",
       "      <th></th>\n",
       "      <th>5m</th>\n",
       "      <th>10m</th>\n",
       "      <th>15m</th>\n",
       "      <th>30m</th>\n",
       "      <th>1h</th>\n",
       "      <th>2h</th>\n",
       "      <th>6h</th>\n",
       "      <th>12h</th>\n",
       "      <th>24h</th>\n",
       "    </tr>\n",
       "    <tr>\n",
       "      <th>Year</th>\n",
       "      <th></th>\n",
       "      <th></th>\n",
       "      <th></th>\n",
       "      <th></th>\n",
       "      <th></th>\n",
       "      <th></th>\n",
       "      <th></th>\n",
       "      <th></th>\n",
       "      <th></th>\n",
       "    </tr>\n",
       "  </thead>\n",
       "  <tbody>\n",
       "    <tr>\n",
       "      <th>1985</th>\n",
       "      <td>2.8</td>\n",
       "      <td>5.3</td>\n",
       "      <td>8.1</td>\n",
       "      <td>10.9</td>\n",
       "      <td>13.7</td>\n",
       "      <td>14.4</td>\n",
       "      <td>24.2</td>\n",
       "      <td>28.0</td>\n",
       "      <td>30.4</td>\n",
       "    </tr>\n",
       "    <tr>\n",
       "      <th>1986</th>\n",
       "      <td>2.5</td>\n",
       "      <td>3.9</td>\n",
       "      <td>4.4</td>\n",
       "      <td>5.9</td>\n",
       "      <td>8.6</td>\n",
       "      <td>14.6</td>\n",
       "      <td>36.8</td>\n",
       "      <td>56.3</td>\n",
       "      <td>84.7</td>\n",
       "    </tr>\n",
       "    <tr>\n",
       "      <th>1987</th>\n",
       "      <td>1.5</td>\n",
       "      <td>2.5</td>\n",
       "      <td>3.2</td>\n",
       "      <td>5.5</td>\n",
       "      <td>9.9</td>\n",
       "      <td>17.7</td>\n",
       "      <td>33.8</td>\n",
       "      <td>43.2</td>\n",
       "      <td>65.3</td>\n",
       "    </tr>\n",
       "    <tr>\n",
       "      <th>1988</th>\n",
       "      <td>2.0</td>\n",
       "      <td>3.2</td>\n",
       "      <td>4.2</td>\n",
       "      <td>5.3</td>\n",
       "      <td>6.8</td>\n",
       "      <td>11.1</td>\n",
       "      <td>27.7</td>\n",
       "      <td>45.0</td>\n",
       "      <td>51.8</td>\n",
       "    </tr>\n",
       "    <tr>\n",
       "      <th>1989</th>\n",
       "      <td>3.0</td>\n",
       "      <td>4.3</td>\n",
       "      <td>5.2</td>\n",
       "      <td>6.9</td>\n",
       "      <td>9.3</td>\n",
       "      <td>15.2</td>\n",
       "      <td>30.0</td>\n",
       "      <td>45.6</td>\n",
       "      <td>50.9</td>\n",
       "    </tr>\n",
       "  </tbody>\n",
       "</table>\n",
       "</div>"
      ],
      "text/plain": [
       "       5m  10m  15m   30m    1h    2h    6h   12h   24h\n",
       "Year                                                   \n",
       "1985  2.8  5.3  8.1  10.9  13.7  14.4  24.2  28.0  30.4\n",
       "1986  2.5  3.9  4.4   5.9   8.6  14.6  36.8  56.3  84.7\n",
       "1987  1.5  2.5  3.2   5.5   9.9  17.7  33.8  43.2  65.3\n",
       "1988  2.0  3.2  4.2   5.3   6.8  11.1  27.7  45.0  51.8\n",
       "1989  3.0  4.3  5.2   6.9   9.3  15.2  30.0  45.6  50.9"
      ]
     },
     "execution_count": 21,
     "metadata": {},
     "output_type": "execute_result"
    }
   ],
   "source": [
    "Prec.head()"
   ]
  },
  {
   "cell_type": "markdown",
   "metadata": {},
   "source": [
    "Looking at the mean and standard deviation of all available years:"
   ]
  },
  {
   "cell_type": "code",
   "execution_count": 24,
   "metadata": {},
   "outputs": [
    {
     "data": {
      "text/html": [
       "<div>\n",
       "<style scoped>\n",
       "    .dataframe tbody tr th:only-of-type {\n",
       "        vertical-align: middle;\n",
       "    }\n",
       "\n",
       "    .dataframe tbody tr th {\n",
       "        vertical-align: top;\n",
       "    }\n",
       "\n",
       "    .dataframe thead th {\n",
       "        text-align: right;\n",
       "    }\n",
       "</style>\n",
       "<table border=\"1\" class=\"dataframe\">\n",
       "  <thead>\n",
       "    <tr style=\"text-align: right;\">\n",
       "      <th></th>\n",
       "      <th>5m</th>\n",
       "      <th>10m</th>\n",
       "      <th>15m</th>\n",
       "      <th>30m</th>\n",
       "      <th>1h</th>\n",
       "      <th>2h</th>\n",
       "      <th>6h</th>\n",
       "      <th>12h</th>\n",
       "      <th>24h</th>\n",
       "    </tr>\n",
       "  </thead>\n",
       "  <tbody>\n",
       "    <tr>\n",
       "      <th>Mean</th>\n",
       "      <td>2.652381</td>\n",
       "      <td>3.842857</td>\n",
       "      <td>4.857143</td>\n",
       "      <td>7.061905</td>\n",
       "      <td>10.223810</td>\n",
       "      <td>15.42381</td>\n",
       "      <td>31.757143</td>\n",
       "      <td>44.728571</td>\n",
       "      <td>60.690476</td>\n",
       "    </tr>\n",
       "    <tr>\n",
       "      <th>Std</th>\n",
       "      <td>0.819524</td>\n",
       "      <td>1.280458</td>\n",
       "      <td>1.797101</td>\n",
       "      <td>2.498295</td>\n",
       "      <td>2.867561</td>\n",
       "      <td>2.61092</td>\n",
       "      <td>6.036685</td>\n",
       "      <td>8.791083</td>\n",
       "      <td>16.689335</td>\n",
       "    </tr>\n",
       "  </tbody>\n",
       "</table>\n",
       "</div>"
      ],
      "text/plain": [
       "            5m       10m       15m       30m         1h        2h         6h  \\\n",
       "Mean  2.652381  3.842857  4.857143  7.061905  10.223810  15.42381  31.757143   \n",
       "Std   0.819524  1.280458  1.797101  2.498295   2.867561   2.61092   6.036685   \n",
       "\n",
       "            12h        24h  \n",
       "Mean  44.728571  60.690476  \n",
       "Std    8.791083  16.689335  "
      ]
     },
     "execution_count": 24,
     "metadata": {},
     "output_type": "execute_result"
    }
   ],
   "source": [
    "pd.DataFrame([Prec.mean() , Prec.std()] , index=['Mean','Std'])"
   ]
  },
  {
   "cell_type": "markdown",
   "metadata": {},
   "source": [
    "$p=\\frac{1}{T}=\\frac{m}{N+1}$"
   ]
  },
  {
   "cell_type": "code",
   "execution_count": 39,
   "metadata": {},
   "outputs": [
    {
     "data": {
      "text/html": [
       "<div>\n",
       "<style scoped>\n",
       "    .dataframe tbody tr th:only-of-type {\n",
       "        vertical-align: middle;\n",
       "    }\n",
       "\n",
       "    .dataframe tbody tr th {\n",
       "        vertical-align: top;\n",
       "    }\n",
       "\n",
       "    .dataframe thead th {\n",
       "        text-align: right;\n",
       "    }\n",
       "</style>\n",
       "<table border=\"1\" class=\"dataframe\">\n",
       "  <thead>\n",
       "    <tr style=\"text-align: right;\">\n",
       "      <th></th>\n",
       "      <th>30m</th>\n",
       "      <th>m</th>\n",
       "      <th>p</th>\n",
       "      <th>T</th>\n",
       "    </tr>\n",
       "    <tr>\n",
       "      <th>Year</th>\n",
       "      <th></th>\n",
       "      <th></th>\n",
       "      <th></th>\n",
       "      <th></th>\n",
       "    </tr>\n",
       "  </thead>\n",
       "  <tbody>\n",
       "    <tr>\n",
       "      <th>1996</th>\n",
       "      <td>15.9</td>\n",
       "      <td>1</td>\n",
       "      <td>0.045455</td>\n",
       "      <td>22.000000</td>\n",
       "    </tr>\n",
       "    <tr>\n",
       "      <th>1985</th>\n",
       "      <td>10.9</td>\n",
       "      <td>2</td>\n",
       "      <td>0.090909</td>\n",
       "      <td>11.000000</td>\n",
       "    </tr>\n",
       "    <tr>\n",
       "      <th>2004</th>\n",
       "      <td>9.2</td>\n",
       "      <td>3</td>\n",
       "      <td>0.136364</td>\n",
       "      <td>7.333333</td>\n",
       "    </tr>\n",
       "    <tr>\n",
       "      <th>2005</th>\n",
       "      <td>8.5</td>\n",
       "      <td>4</td>\n",
       "      <td>0.181818</td>\n",
       "      <td>5.500000</td>\n",
       "    </tr>\n",
       "    <tr>\n",
       "      <th>2003</th>\n",
       "      <td>8.1</td>\n",
       "      <td>5</td>\n",
       "      <td>0.227273</td>\n",
       "      <td>4.400000</td>\n",
       "    </tr>\n",
       "    <tr>\n",
       "      <th>1993</th>\n",
       "      <td>7.4</td>\n",
       "      <td>6</td>\n",
       "      <td>0.272727</td>\n",
       "      <td>3.666667</td>\n",
       "    </tr>\n",
       "    <tr>\n",
       "      <th>1989</th>\n",
       "      <td>6.9</td>\n",
       "      <td>7</td>\n",
       "      <td>0.318182</td>\n",
       "      <td>3.142857</td>\n",
       "    </tr>\n",
       "    <tr>\n",
       "      <th>1997</th>\n",
       "      <td>6.7</td>\n",
       "      <td>8</td>\n",
       "      <td>0.363636</td>\n",
       "      <td>2.750000</td>\n",
       "    </tr>\n",
       "    <tr>\n",
       "      <th>1991</th>\n",
       "      <td>6.4</td>\n",
       "      <td>9</td>\n",
       "      <td>0.409091</td>\n",
       "      <td>2.444444</td>\n",
       "    </tr>\n",
       "    <tr>\n",
       "      <th>1990</th>\n",
       "      <td>6.2</td>\n",
       "      <td>10</td>\n",
       "      <td>0.454545</td>\n",
       "      <td>2.200000</td>\n",
       "    </tr>\n",
       "    <tr>\n",
       "      <th>1999</th>\n",
       "      <td>6.0</td>\n",
       "      <td>11</td>\n",
       "      <td>0.500000</td>\n",
       "      <td>2.000000</td>\n",
       "    </tr>\n",
       "    <tr>\n",
       "      <th>1986</th>\n",
       "      <td>5.9</td>\n",
       "      <td>12</td>\n",
       "      <td>0.545455</td>\n",
       "      <td>1.833333</td>\n",
       "    </tr>\n",
       "    <tr>\n",
       "      <th>1995</th>\n",
       "      <td>5.9</td>\n",
       "      <td>13</td>\n",
       "      <td>0.590909</td>\n",
       "      <td>1.692308</td>\n",
       "    </tr>\n",
       "    <tr>\n",
       "      <th>2000</th>\n",
       "      <td>5.9</td>\n",
       "      <td>14</td>\n",
       "      <td>0.636364</td>\n",
       "      <td>1.571429</td>\n",
       "    </tr>\n",
       "    <tr>\n",
       "      <th>1994</th>\n",
       "      <td>5.8</td>\n",
       "      <td>15</td>\n",
       "      <td>0.681818</td>\n",
       "      <td>1.466667</td>\n",
       "    </tr>\n",
       "    <tr>\n",
       "      <th>2002</th>\n",
       "      <td>5.7</td>\n",
       "      <td>16</td>\n",
       "      <td>0.727273</td>\n",
       "      <td>1.375000</td>\n",
       "    </tr>\n",
       "    <tr>\n",
       "      <th>1987</th>\n",
       "      <td>5.5</td>\n",
       "      <td>17</td>\n",
       "      <td>0.772727</td>\n",
       "      <td>1.294118</td>\n",
       "    </tr>\n",
       "    <tr>\n",
       "      <th>2001</th>\n",
       "      <td>5.5</td>\n",
       "      <td>18</td>\n",
       "      <td>0.818182</td>\n",
       "      <td>1.222222</td>\n",
       "    </tr>\n",
       "    <tr>\n",
       "      <th>1992</th>\n",
       "      <td>5.3</td>\n",
       "      <td>19</td>\n",
       "      <td>0.863636</td>\n",
       "      <td>1.157895</td>\n",
       "    </tr>\n",
       "    <tr>\n",
       "      <th>1988</th>\n",
       "      <td>5.3</td>\n",
       "      <td>20</td>\n",
       "      <td>0.909091</td>\n",
       "      <td>1.100000</td>\n",
       "    </tr>\n",
       "    <tr>\n",
       "      <th>1998</th>\n",
       "      <td>5.3</td>\n",
       "      <td>21</td>\n",
       "      <td>0.954545</td>\n",
       "      <td>1.047619</td>\n",
       "    </tr>\n",
       "  </tbody>\n",
       "</table>\n",
       "</div>"
      ],
      "text/plain": [
       "       30m   m         p          T\n",
       "Year                               \n",
       "1996  15.9   1  0.045455  22.000000\n",
       "1985  10.9   2  0.090909  11.000000\n",
       "2004   9.2   3  0.136364   7.333333\n",
       "2005   8.5   4  0.181818   5.500000\n",
       "2003   8.1   5  0.227273   4.400000\n",
       "1993   7.4   6  0.272727   3.666667\n",
       "1989   6.9   7  0.318182   3.142857\n",
       "1997   6.7   8  0.363636   2.750000\n",
       "1991   6.4   9  0.409091   2.444444\n",
       "1990   6.2  10  0.454545   2.200000\n",
       "1999   6.0  11  0.500000   2.000000\n",
       "1986   5.9  12  0.545455   1.833333\n",
       "1995   5.9  13  0.590909   1.692308\n",
       "2000   5.9  14  0.636364   1.571429\n",
       "1994   5.8  15  0.681818   1.466667\n",
       "2002   5.7  16  0.727273   1.375000\n",
       "1987   5.5  17  0.772727   1.294118\n",
       "2001   5.5  18  0.818182   1.222222\n",
       "1992   5.3  19  0.863636   1.157895\n",
       "1988   5.3  20  0.909091   1.100000\n",
       "1998   5.3  21  0.954545   1.047619"
      ]
     },
     "execution_count": 39,
     "metadata": {},
     "output_type": "execute_result"
    }
   ],
   "source": [
    "F30m = pd.DataFrame(Prec['30m'].sort_values(ascending=False)) # sorted (descending) values for 30m duration events\n",
    "F30m['m'] = np.arange(1 , N+1) # get index value\n",
    "F30m['p'] = m/(N+1)\n",
    "F30m['T'] = 1/p\n",
    "F30m"
   ]
  },
  {
   "cell_type": "code",
   "execution_count": 45,
   "metadata": {},
   "outputs": [
    {
     "data": {
      "text/plain": [
       "(1, 100)"
      ]
     },
     "execution_count": 45,
     "metadata": {},
     "output_type": "execute_result"
    },
    {
     "data": {
      "image/png": "[encoded data removed]",
      "text/plain": [
       "<Figure size 432x288 with 1 Axes>"
      ]
     },
     "metadata": {},
     "output_type": "display_data"
    }
   ],
   "source": [
    "F30m.plot('T' , '30m' , kind='scatter' , logx=True)\n",
    "plt.grid()\n",
    "plt.xlim(1,100)"
   ]
  },
  {
   "cell_type": "markdown",
   "metadata": {},
   "source": [
    "Gumbel Type-1 Distribution\n",
    "$$G(x,\\mu,\\beta) = \\frac{1}{\\beta}e^{\\frac{x-\\mu}{\\beta}e^{-e^{\\frac{x-\\mu}{\\beta}}}}$$\n",
    "\n",
    "$$K_t=-\\frac{\\sqrt{6}}{\\pi}[0.5772+ln(ln\\frac{T}{T-1})]$$"
   ]
  },
  {
   "cell_type": "code",
   "execution_count": 57,
   "metadata": {},
   "outputs": [],
   "source": [
    "Kt=-6**.5/np.pi*(0.5772+np.log(np.log(T/(T-1))))"
   ]
  },
  {
   "cell_type": "code",
   "execution_count": 68,
   "metadata": {},
   "outputs": [],
   "source": [
    "Xbar=Prec['30m'].mean()\n",
    "S=Prec['30m'].std()\n",
    "Xt=Xbar+Kt*S"
   ]
  },
  {
   "cell_type": "code",
   "execution_count": 69,
   "metadata": {},
   "outputs": [],
   "source": [
    "T_calc=np.array([2,5,10,25,50,100,1000])\n",
    "Kt_calc=-6**.5/np.pi*(0.5772+np.log(np.log(T_calc/(T_calc-1))))"
   ]
  },
  {
   "cell_type": "code",
   "execution_count": 71,
   "metadata": {},
   "outputs": [
    {
     "data": {
      "text/plain": [
       "array([13.30300959, 17.71864276, 20.64217613, 24.3360683 , 27.07640852,\n",
       "       29.79651451, 38.78459445])"
      ]
     },
     "execution_count": 71,
     "metadata": {},
     "output_type": "execute_result"
    }
   ],
   "source": [
    "(Xbar+Kt_calc*S)/.5"
   ]
  },
  {
   "cell_type": "code",
   "execution_count": 107,
   "metadata": {},
   "outputs": [
    {
     "data": {
      "text/html": [
       "<div>\n",
       "<style scoped>\n",
       "    .dataframe tbody tr th:only-of-type {\n",
       "        vertical-align: middle;\n",
       "    }\n",
       "\n",
       "    .dataframe tbody tr th {\n",
       "        vertical-align: top;\n",
       "    }\n",
       "\n",
       "    .dataframe thead th {\n",
       "        text-align: right;\n",
       "    }\n",
       "</style>\n",
       "<table border=\"1\" class=\"dataframe\">\n",
       "  <thead>\n",
       "    <tr style=\"text-align: right;\">\n",
       "      <th></th>\n",
       "      <th>2</th>\n",
       "      <th>5</th>\n",
       "      <th>10</th>\n",
       "      <th>25</th>\n",
       "      <th>50</th>\n",
       "      <th>100</th>\n",
       "      <th>1000</th>\n",
       "    </tr>\n",
       "  </thead>\n",
       "  <tbody>\n",
       "    <tr>\n",
       "      <th>0.083333</th>\n",
       "      <td>30.213074</td>\n",
       "      <td>38.903920</td>\n",
       "      <td>44.658017</td>\n",
       "      <td>51.928333</td>\n",
       "      <td>57.321869</td>\n",
       "      <td>62.675580</td>\n",
       "      <td>80.365913</td>\n",
       "    </tr>\n",
       "    <tr>\n",
       "      <th>0.166667</th>\n",
       "      <td>21.795083</td>\n",
       "      <td>28.584551</td>\n",
       "      <td>33.079769</td>\n",
       "      <td>38.759490</td>\n",
       "      <td>42.973031</td>\n",
       "      <td>47.155461</td>\n",
       "      <td>60.975513</td>\n",
       "    </tr>\n",
       "    <tr>\n",
       "      <th>0.250000</th>\n",
       "      <td>18.247718</td>\n",
       "      <td>24.600322</td>\n",
       "      <td>28.806298</td>\n",
       "      <td>34.120560</td>\n",
       "      <td>38.062984</td>\n",
       "      <td>41.976297</td>\n",
       "      <td>54.907107</td>\n",
       "    </tr>\n",
       "    <tr>\n",
       "      <th>0.500000</th>\n",
       "      <td>13.303010</td>\n",
       "      <td>17.718643</td>\n",
       "      <td>20.642176</td>\n",
       "      <td>24.336068</td>\n",
       "      <td>27.076409</td>\n",
       "      <td>29.796515</td>\n",
       "      <td>38.784594</td>\n",
       "    </tr>\n",
       "    <tr>\n",
       "      <th>1.000000</th>\n",
       "      <td>9.752749</td>\n",
       "      <td>12.286897</td>\n",
       "      <td>13.964724</td>\n",
       "      <td>16.084662</td>\n",
       "      <td>17.657353</td>\n",
       "      <td>19.218432</td>\n",
       "      <td>24.376724</td>\n",
       "    </tr>\n",
       "    <tr>\n",
       "      <th>2.000000</th>\n",
       "      <td>7.497454</td>\n",
       "      <td>8.651128</td>\n",
       "      <td>9.414960</td>\n",
       "      <td>10.380064</td>\n",
       "      <td>11.096034</td>\n",
       "      <td>11.806716</td>\n",
       "      <td>14.155034</td>\n",
       "    </tr>\n",
       "    <tr>\n",
       "      <th>6.000000</th>\n",
       "      <td>5.127581</td>\n",
       "      <td>6.016713</td>\n",
       "      <td>6.605397</td>\n",
       "      <td>7.349200</td>\n",
       "      <td>7.900995</td>\n",
       "      <td>8.448716</td>\n",
       "      <td>10.258558</td>\n",
       "    </tr>\n",
       "    <tr>\n",
       "      <th>12.000000</th>\n",
       "      <td>3.607037</td>\n",
       "      <td>4.254448</td>\n",
       "      <td>4.683091</td>\n",
       "      <td>5.224683</td>\n",
       "      <td>5.626466</td>\n",
       "      <td>6.025283</td>\n",
       "      <td>7.343098</td>\n",
       "    </tr>\n",
       "    <tr>\n",
       "      <th>24.000000</th>\n",
       "      <td>2.414537</td>\n",
       "      <td>3.029073</td>\n",
       "      <td>3.435949</td>\n",
       "      <td>3.950038</td>\n",
       "      <td>4.331418</td>\n",
       "      <td>4.709983</td>\n",
       "      <td>5.960879</td>\n",
       "    </tr>\n",
       "  </tbody>\n",
       "</table>\n",
       "</div>"
      ],
      "text/plain": [
       "                2          5          10         25         50         100   \\\n",
       "0.083333   30.213074  38.903920  44.658017  51.928333  57.321869  62.675580   \n",
       "0.166667   21.795083  28.584551  33.079769  38.759490  42.973031  47.155461   \n",
       "0.250000   18.247718  24.600322  28.806298  34.120560  38.062984  41.976297   \n",
       "0.500000   13.303010  17.718643  20.642176  24.336068  27.076409  29.796515   \n",
       "1.000000    9.752749  12.286897  13.964724  16.084662  17.657353  19.218432   \n",
       "2.000000    7.497454   8.651128   9.414960  10.380064  11.096034  11.806716   \n",
       "6.000000    5.127581   6.016713   6.605397   7.349200   7.900995   8.448716   \n",
       "12.000000   3.607037   4.254448   4.683091   5.224683   5.626466   6.025283   \n",
       "24.000000   2.414537   3.029073   3.435949   3.950038   4.331418   4.709983   \n",
       "\n",
       "                1000  \n",
       "0.083333   80.365913  \n",
       "0.166667   60.975513  \n",
       "0.250000   54.907107  \n",
       "0.500000   38.784594  \n",
       "1.000000   24.376724  \n",
       "2.000000   14.155034  \n",
       "6.000000   10.258558  \n",
       "12.000000   7.343098  \n",
       "24.000000   5.960879  "
      ]
     },
     "execution_count": 107,
     "metadata": {},
     "output_type": "execute_result"
    }
   ],
   "source": [
    "Intensity=(np.matrix(Prec.mean()).T+np.dot(np.matrix(Prec.std()).T , np.matrix(Kt_calc)))/\\\n",
    "np.matrix([5/60,10/60,15/60, 30/60, 1, 2, 6, 12, 24]).T\n",
    "Intensity=pd.DataFrame(Intensity,columns=T_calc,index=[5/60,10/60,15/60, 30/60, 1, 2, 6, 12, 24])\n",
    "Intensity"
   ]
  },
  {
   "cell_type": "code",
   "execution_count": 110,
   "metadata": {},
   "outputs": [
    {
     "data": {
      "image/png": "[encoded data removed]",
      "text/plain": [
       "<Figure size 432x288 with 1 Axes>"
      ]
     },
     "metadata": {},
     "output_type": "display_data"
    }
   ],
   "source": [
    "Intensity.plot()\n",
    "plt.xlabel('Storm Duration (hrs)')\n",
    "plt.ylabel('Intensity (mm/hr)')\n",
    "plt.grid()"
   ]
  },
  {
   "cell_type": "code",
   "execution_count": null,
   "metadata": {},
   "outputs": [],
   "source": []
  }
 ],
 "metadata": {
  "kernelspec": {
   "display_name": "Python 3",
   "language": "python",
   "name": "python3"
  },
  "language_info": {
   "codemirror_mode": {
    "name": "ipython",
    "version": 3
   },
   "file_extension": ".py",
   "mimetype": "text/x-python",
   "name": "python",
   "nbconvert_exporter": "python",
   "pygments_lexer": "ipython3",
   "version": "3.6.5"
  }
 },
 "nbformat": 4,
 "nbformat_minor": 2
}
